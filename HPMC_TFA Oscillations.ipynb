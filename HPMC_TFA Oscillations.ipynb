{
 "cells": [
  {
   "cell_type": "markdown",
   "metadata": {},
   "source": [
    "# HPMC/TFA Oscillations"
   ]
  },
  {
   "cell_type": "code",
   "execution_count": 75,
   "metadata": {},
   "outputs": [],
   "source": [
    "import numpy as np\n",
    "from scipy.signal import convolve2d\n",
    "import matplotlib.pyplot as plt\n",
    "from matplotlib import animation\n",
    "from ipywidgets import *"
   ]
  },
  {
   "cell_type": "markdown",
   "metadata": {},
   "source": [
    "$2X \\rightarrow Y$\n",
    "\n",
    "$Y + B \\rightarrow Z$\n",
    "\n",
    "$Z \\rightarrow D + E + X$"
   ]
  },
  {
   "cell_type": "code",
   "execution_count": 76,
   "metadata": {},
   "outputs": [],
   "source": [
    "def update(t,arr,er):\n",
    "    \"\"\"Update arr[p] to arr[q] by evolving in time.\"\"\"\n",
    "\n",
    "    # Count the average amount of each species in the 9 cells around each cell\n",
    "    # by convolution with the 3x3 array m.\n",
    "    s = np.zeros((ns, ny, nx))\n",
    "    m = np.ones((3,3)) * dRate # Diffusing species\n",
    "    m[1,1] = 1-8*dRate\n",
    "    m2 = np.zeros((3,3))    # Non-diffusing species\n",
    "    m2[1,1] = 1\n",
    "    \n",
    "    for k in range(ns):\n",
    "        if k in (1,2,3):\n",
    "            s[k] = convolve2d(arr[t,k], m, mode='same', boundary='wrap')\n",
    "        elif k == 0:\n",
    "            s[k] = convolve2d(arr[t,k], m, mode='same', boundary='fill',\n",
    "             fillvalue = er*arr[0,k]) # NEED TO CHECK THIS'''\n",
    "        else:\n",
    "            s[k] = convolve2d(arr[t,k], m2, mode='same', boundary='wrap')\n",
    "    \n",
    "    # Apply the reaction equations\n",
    "\n",
    "    arr[t+1,0] = s[0]\n",
    "    arr[t+1,1] = s[1] + alpha*(-pow(s[1],2)+s[3])\n",
    "    arr[t+1,2] = s[2] + alpha*(pow(s[1],2)-s[2]*s[0])\n",
    "    arr[t+1,3] = s[3] + alpha*(s[2]*s[0]-s[3])\n",
    "     \n",
    "    '''if t == 200:\n",
    "        arr[q,0] = 0.8\n",
    "        arr[q,1] = 0.8'''\n",
    "    \n",
    "    # Ensure the species concentrations are kept within [0,1]. (<0)=0; (>1)=1\n",
    "    #np.clip(arr[q,3], 0, 0.5, arr[q,3])\n",
    "\n",
    "    return arr"
   ]
  },
  {
   "cell_type": "code",
   "execution_count": 77,
   "metadata": {
    "scrolled": false
   },
   "outputs": [
    {
     "data": {
      "application/vnd.jupyter.widget-view+json": {
       "model_id": "8ef35d6346234b47a0a284609f9a011f",
       "version_major": 2,
       "version_minor": 0
      },
      "text/plain": [
       "interactive(children=(FloatSlider(value=0.1, description='B', max=1.0), FloatSlider(value=0.8, description='X'…"
      ]
     },
     "metadata": {},
     "output_type": "display_data"
    },
    {
     "data": {
      "text/plain": [
       "<function __main__.slider1(B, X, Y, Z)>"
      ]
     },
     "execution_count": 77,
     "metadata": {},
     "output_type": "execute_result"
    }
   ],
   "source": [
    "ITER = 200\n",
    "nx, ny = 20, 20              # Width, height of the image.\n",
    "alpha = 0.1                    # Reaction parameter.\n",
    "ns = 4                         # Number of chemical species\n",
    "\n",
    "''' Diffusion '''\n",
    "dRate = 1/9 # dRate in neighbours (dCenter+8*dRate = 1) dRate <= 1/8\n",
    "\n",
    "''' Evaporation '''\n",
    "er = 1.0 # Evaporation rate 0 >= er >= 1\n",
    "\n",
    "def slider1(B, X, Y, Z):\n",
    "\n",
    "    ic = [B, X, Y, Z]\n",
    "    # Initialize the array with default values\n",
    "    #arr = np.random.random(size=(2, ns, ny, nx)) # random values\n",
    "    arr = np.zeros((ITER,ns,ny,nx))\n",
    "    for i in range(ns): arr[0, i] = ic[i]\n",
    "\n",
    "    # PLOT MID\n",
    "    label = ['$\\mathrm{B}$','$\\mathrm{X}$',\n",
    "             '$\\mathrm{Y}$','$\\mathrm{Z}$']\n",
    "\n",
    "    fig, ax = plt.subplots(1, 4)\n",
    "    fig.subplots_adjust(hspace = 0.4)\n",
    "    c = 0\n",
    "    for i in ax.flat:\n",
    "        i.set(xlabel=label[c])\n",
    "        c += 1\n",
    "\n",
    "    for i in range(ITER-1):\n",
    "        arr = update(i, arr, er)\n",
    "\n",
    "    time = np.linspace(1,ITER,ITER)\n",
    "    for j in range(ns):\n",
    "            ax[j].plot(time, arr[:, j, int(ny/2),int(nx/2)], color='black')\n",
    "            ax[j].plot(time, arr[:, j, 0,int(nx/2)], color='blue')\n",
    "\n",
    "interact(slider1, B=widgets.FloatSlider(min=0,max=1,step=0.1,value=0.1), X=widgets.FloatSlider(min=0,max=1,step=0.1,value=0.8), \n",
    "         Y=widgets.FloatSlider(min=0,max=1,step=0.1,value=0.5), Z=widgets.FloatSlider(min=0,max=1,step=0.1,value=0.4))"
   ]
  },
  {
   "cell_type": "code",
   "execution_count": 78,
   "metadata": {},
   "outputs": [
    {
     "data": {
      "application/vnd.jupyter.widget-view+json": {
       "model_id": "83194011e6d640ffb279b6f53bef83d7",
       "version_major": 2,
       "version_minor": 0
      },
      "text/plain": [
       "interactive(children=(IntSlider(value=0, description='i', max=199, step=2), Output()), _dom_classes=('widget-i…"
      ]
     },
     "metadata": {},
     "output_type": "display_data"
    }
   ],
   "source": [
    "# Set up the image ############################################################\n",
    "\n",
    "def slider(i = 1):\n",
    "    fig, ax = plt.subplots()\n",
    "    im = ax.imshow(arr[i].reshape((ns*nx,ny)).T,\n",
    "               cmap=plt.cm.jet, vmin = 0, vmax = 1)\n",
    "    ax.set_xticks(nx*(np.linspace(1,ns,ns)-.5))\n",
    "    # MANUAL EDIT #################################################################\n",
    "    ax.set_xticklabels(['$\\mathrm{B}$','$\\mathrm{X}$',\n",
    "                        '$\\mathrm{Y}$','$\\mathrm{Z}$',\n",
    "                        '$\\mathrm{X}$','$\\mathrm{Cell_{TFA}}$',\n",
    "                        '$\\mathrm{H_2O}$'])\n",
    "    ###############################################################################\n",
    "    ax.axes.get_yaxis().set_visible(False)\n",
    "\n",
    "    aspect = 5\n",
    "    pad_fraction = 0.5\n",
    "    divider = make_axes_locatable(ax)\n",
    "    width = axes_size.AxesY(ax, aspect=1./aspect)\n",
    "    pad = axes_size.Fraction(pad_fraction, width)\n",
    "    cax = divider.append_axes(\"right\", size=width, pad=pad)\n",
    "    plt.colorbar(im,cax=cax)\n",
    "    # Update the image for iteration i of the Matplotlib animation.\n",
    "    #im.set_array(arr[i].reshape((ns*nx,ny)).T)\n",
    "    #fig.canvas.draw_idle()\n",
    "    \n",
    "interact(slider, i=widgets.IntSlider(min=0,max=ITER-1,step=2,));\n",
    "\n",
    "# To save the animation as an MP4 movie, uncomment this line ##################\n",
    "\n",
    "#anim.save(filename='bz_temp.mp4', fps=25)"
   ]
  }
 ],
 "metadata": {
  "kernelspec": {
   "display_name": "Python 3",
   "language": "python",
   "name": "python3"
  },
  "language_info": {
   "codemirror_mode": {
    "name": "ipython",
    "version": 3
   },
   "file_extension": ".py",
   "mimetype": "text/x-python",
   "name": "python",
   "nbconvert_exporter": "python",
   "pygments_lexer": "ipython3",
   "version": "3.8.5"
  },
  "latex_envs": {
   "LaTeX_envs_menu_present": true,
   "autoclose": false,
   "autocomplete": true,
   "bibliofile": "biblio.bib",
   "cite_by": "apalike",
   "current_citInitial": 1,
   "eqLabelWithNumbers": true,
   "eqNumInitial": 1,
   "hotkeys": {
    "equation": "Ctrl-E",
    "itemize": "Ctrl-I"
   },
   "labels_anchors": false,
   "latex_user_defs": false,
   "report_style_numbering": false,
   "user_envs_cfg": false
  }
 },
 "nbformat": 4,
 "nbformat_minor": 4
}
